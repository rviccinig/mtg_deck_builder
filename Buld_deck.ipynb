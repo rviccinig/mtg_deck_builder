{
 "cells": [
  {
   "cell_type": "markdown",
   "metadata": {},
   "source": [
    "# Automatizando la Construction de Decks the Magic - Commander"
   ]
  },
  {
   "cell_type": "markdown",
   "metadata": {},
   "source": [
    "##### Maximize the number of combos subject to a budget constraint, and the selection of 100 cards"
   ]
  },
  {
   "cell_type": "code",
   "execution_count": 1,
   "metadata": {},
   "outputs": [],
   "source": [
    "import urllib, json\n",
    "import pandas as pd\n",
    "import numpy as np\n",
    "import pyomo.environ as pyo\n",
    "import pyomo.opt as po\n",
    "import random"
   ]
  },
  {
   "cell_type": "code",
   "execution_count": 2,
   "metadata": {},
   "outputs": [],
   "source": [
    "#READ DATABASE OF COMBOS\n",
    "Spell_Book=pd.read_csv('Spell_Book _MTG_Commander.csv')\n",
    "#COMBO IDENTITY\n",
    "Colors = ['w,g','w', 'g']\n",
    "Spell_Book=Spell_Book.loc[Spell_Book['Color Identity'].isin(Colors)]"
   ]
  },
  {
   "cell_type": "code",
   "execution_count": 3,
   "metadata": {},
   "outputs": [],
   "source": [
    "#LIST OF COMBOS, In the case of selenesnaya there are 949 Combos\n",
    "Combo_list=[]\n",
    "\n",
    "#Take all the combos in the spell book and make a list\n",
    "for i in range(0,len(Spell_Book)):\n",
    "    #Go Row by rows, extract columns 1 to 11 (Card Columns)\n",
    "    Combo=Spell_Book.iloc[[i],1:11]\n",
    "    #Drop Columns NA\n",
    "    Combo_2=Combo.dropna(axis='columns')\n",
    "    #Create a list out the combo with no extra NAN, Fx if a combo has 2 cards is simply going to be ['sacred monk, bestiary]\n",
    "    Combo_3=list(Combo_2.iloc[0])\n",
    "    Combo_list.append(Combo_3)"
   ]
  },
  {
   "cell_type": "code",
   "execution_count": 4,
   "metadata": {},
   "outputs": [
    {
     "data": {
      "text/plain": [
       "949"
      ]
     },
     "execution_count": 4,
     "metadata": {},
     "output_type": "execute_result"
    }
   ],
   "source": [
    "#NUMBER OF COMBOS\n",
    "len(Combo_list)"
   ]
  },
  {
   "cell_type": "code",
   "execution_count": 5,
   "metadata": {},
   "outputs": [],
   "source": [
    "#LIST OF CARDS\n",
    "list_of_Cards = sum(Combo_list, [])\n",
    "#REMOVE ALL ThE DUPLICATES FROM MY DECK\n",
    "list_of_Cards=list(dict.fromkeys(list_of_Cards))"
   ]
  },
  {
   "cell_type": "code",
   "execution_count": 6,
   "metadata": {},
   "outputs": [
    {
     "data": {
      "text/plain": [
       "583"
      ]
     },
     "execution_count": 6,
     "metadata": {},
     "output_type": "execute_result"
    }
   ],
   "source": [
    "#NUMBER OF CARDS POSSIBLE\n",
    "len(list_of_Cards)"
   ]
  },
  {
   "cell_type": "code",
   "execution_count": 7,
   "metadata": {},
   "outputs": [],
   "source": [
    "#CREATE A COMBO VECTOR- MATRIX of 1 and 0. Example CoOMBO 1 is (1,1,1,0,0,0,0,0,0,0,0,0,0,0,0,0) , lengh is the lengh of the cards that we are interested ( w, r, w,g)\n",
    "matrix_list=[]\n",
    "for i in range(0,len(Combo_list)):\n",
    "    #Combo Vector = [0,0,0,0,0,0.........,0,0,0,0]\n",
    "    Combo_Vector=[0]*len(list_of_Cards)\n",
    "    #FX testing_Combo = ['Adarkar Valkyrie', 'Sparring Mummy', 'Phyrexian Altar'] para i=0\n",
    "    testing_Combo=Combo_list[i]\n",
    "    for i in testing_Combo:\n",
    "        try:\n",
    "    #Fx i='Adarkar Valkyrie'\n",
    "    #Fx .index('Adarkar Valkyrie') me devuelve el indice esta carta dentro de mi list ade cartas y reemplazo eso en mi vector de combo\n",
    "            index=list_of_Cards.index(i)\n",
    "            Combo_Vector[index]=1\n",
    "        except:\n",
    "            pass\n",
    "    matrix_list.append(Combo_Vector)\n",
    "#CREATE MATRIX AND MAKE SURE THE NUMBER OF COMBOS - IS IN THE ROWS AND THE CARDS ARE THE COLUMNS   \n",
    "matrix_form = np.array(matrix_list)"
   ]
  },
  {
   "cell_type": "code",
   "execution_count": 8,
   "metadata": {},
   "outputs": [
    {
     "data": {
      "text/plain": [
       "(949, 583)"
      ]
     },
     "execution_count": 8,
     "metadata": {},
     "output_type": "execute_result"
    }
   ],
   "source": [
    "#MATRIX HAS ROWS (COMBOS),COLUMNS(POSSIBLE CARDS)\n",
    "matrix_form.shape"
   ]
  },
  {
   "cell_type": "code",
   "execution_count": 9,
   "metadata": {},
   "outputs": [
    {
     "data": {
      "text/plain": [
       "(949,)"
      ]
     },
     "execution_count": 9,
     "metadata": {},
     "output_type": "execute_result"
    }
   ],
   "source": [
    "#ADDING THE ELEMENTS OF THE ROW - IT IS BASICALLY THE NUMBER of CARDS IN EACH COMBO ,THE SAHPE IS THE NUMBER OF COMBOS\n",
    "N_Cards_Combo=matrix_form.sum(axis=1)\n",
    "N_Cards_Combo.shape"
   ]
  },
  {
   "cell_type": "markdown",
   "metadata": {},
   "source": [
    "# Solving the Optimization Problem - Montecarlo Simulation"
   ]
  },
  {
   "cell_type": "markdown",
   "metadata": {},
   "source": [
    "#### I am going to Optimize is the number of combos in my Deck)\n",
    "\n",
    "\n",
    "trace(Combo_Matrix * (Vector of Deck) - Sum(Combo_Matrix_Row))\n",
    "\n",
    "\n",
    "\n",
    "\n",
    "\n",
    "\n",
    "\n"
   ]
  },
  {
   "cell_type": "code",
   "execution_count": 10,
   "metadata": {},
   "outputs": [],
   "source": [
    "#DEFINE THE NUMBER OF SIMULATIONS\n",
    "N_Simulations=100000\n",
    "\n",
    "# lIST OF RESULTS = IS THE LIST\n",
    "list_results=[]\n",
    "\n",
    "# lIST OF ALL POSIBLE DECKS\n",
    "list_Deck=[]\n",
    "\n",
    "#THIS LIST LETS ME KNOW THE NUMBER OF COMBOS IN MY DECK\n",
    "List_Count_Combos=[]\n",
    "\n",
    "for i in range(0,N_Simulations):\n",
    "    #GENERATE A RANDOM DECK, I ASSUME I CAN ONLY PICK 60 CARDS, THE REST ARE 0, AS LONG AS THE LIST OF CARDS IN THIS CASE 583\n",
    "    Random_Deck=np.array(random.sample([0]*(len(list_of_Cards)-60) + [1]*60, len(list_of_Cards)))\n",
    "    #I SAVE MY DECK TO THE PILE OF DECKS\n",
    "    list_Deck.append(Random_Deck)\n",
    "    #MULTIPLY THE MATRIX WITH THE RANDOM DECK\n",
    "    result_Mult=matrix_form.dot(Random_Deck)\n",
    "    #if The Difference is a 0 there is a combo present ,  IF ITS NEGATIVE THERE ARE CARDS MISSING\n",
    "    Diference=result_Mult-N_Cards_Combo\n",
    "    #COMBOS IN THE RUN\n",
    "    List_combo_run=[]\n",
    "    #GO ELEMENT BY ELEMENT IN THE RESULT\n",
    "    for j in Diference:\n",
    "        #IF THERE IS A COMBO PRESENT ADD A 1\n",
    "        if j==0:\n",
    "            List_combo_run.append(1)\n",
    "        #IF THERE IS NO COMBO PRESENT ADD A 0\n",
    "        else:\n",
    "            List_combo_run.append(0)\n",
    "    #ADD THE COMBOS PRESENT\n",
    "    List_Count_Combos.append(List_combo_run)\n",
    "    #MAX RESULTS IT BASICALLY SAYS IN SIMULATION # 1, THERE WHERE 1,2,3, ETC COMBIOS\n",
    "    max_result=sum(List_combo_run)   \n",
    "    #THE INDEX IN EACH ONE OF THIS VECTORS IS WHAT WE ARE GOING TO USE!\n",
    "    list_results.append(max_result)           "
   ]
  },
  {
   "cell_type": "code",
   "execution_count": 53,
   "metadata": {},
   "outputs": [
    {
     "data": {
      "text/html": [
       "<div>\n",
       "<style scoped>\n",
       "    .dataframe tbody tr th:only-of-type {\n",
       "        vertical-align: middle;\n",
       "    }\n",
       "\n",
       "    .dataframe tbody tr th {\n",
       "        vertical-align: top;\n",
       "    }\n",
       "\n",
       "    .dataframe thead th {\n",
       "        text-align: right;\n",
       "    }\n",
       "</style>\n",
       "<table border=\"1\" class=\"dataframe\">\n",
       "  <thead>\n",
       "    <tr style=\"text-align: right;\">\n",
       "      <th></th>\n",
       "      <th>#_Combos</th>\n",
       "      <th>List_Combos</th>\n",
       "      <th>Deck_Selected</th>\n",
       "    </tr>\n",
       "  </thead>\n",
       "  <tbody>\n",
       "    <tr>\n",
       "      <th>0</th>\n",
       "      <td>1</td>\n",
       "      <td>[0, 0, 0, 0, 0, 0, 0, 0, 0, 0, 0, 0, 0, 0, 0, ...</td>\n",
       "      <td>[0, 0, 0, 0, 0, 0, 0, 0, 0, 0, 0, 0, 0, 0, 0, ...</td>\n",
       "    </tr>\n",
       "    <tr>\n",
       "      <th>1</th>\n",
       "      <td>0</td>\n",
       "      <td>[0, 0, 0, 0, 0, 0, 0, 0, 0, 0, 0, 0, 0, 0, 0, ...</td>\n",
       "      <td>[0, 0, 0, 0, 0, 0, 0, 0, 0, 1, 0, 0, 0, 0, 0, ...</td>\n",
       "    </tr>\n",
       "    <tr>\n",
       "      <th>2</th>\n",
       "      <td>2</td>\n",
       "      <td>[0, 0, 0, 0, 0, 0, 0, 0, 0, 0, 0, 0, 0, 0, 0, ...</td>\n",
       "      <td>[0, 0, 1, 0, 0, 0, 0, 1, 0, 0, 1, 0, 0, 0, 1, ...</td>\n",
       "    </tr>\n",
       "    <tr>\n",
       "      <th>3</th>\n",
       "      <td>0</td>\n",
       "      <td>[0, 0, 0, 0, 0, 0, 0, 0, 0, 0, 0, 0, 0, 0, 0, ...</td>\n",
       "      <td>[0, 0, 0, 0, 0, 0, 1, 0, 0, 0, 0, 0, 0, 0, 0, ...</td>\n",
       "    </tr>\n",
       "    <tr>\n",
       "      <th>4</th>\n",
       "      <td>1</td>\n",
       "      <td>[0, 0, 0, 0, 0, 0, 0, 0, 0, 0, 0, 0, 0, 0, 0, ...</td>\n",
       "      <td>[0, 0, 0, 0, 0, 0, 0, 0, 0, 0, 0, 0, 0, 0, 0, ...</td>\n",
       "    </tr>\n",
       "    <tr>\n",
       "      <th>...</th>\n",
       "      <td>...</td>\n",
       "      <td>...</td>\n",
       "      <td>...</td>\n",
       "    </tr>\n",
       "    <tr>\n",
       "      <th>99995</th>\n",
       "      <td>3</td>\n",
       "      <td>[0, 0, 0, 0, 0, 0, 0, 0, 0, 0, 0, 0, 0, 0, 0, ...</td>\n",
       "      <td>[0, 0, 0, 0, 0, 1, 0, 0, 0, 0, 0, 0, 0, 0, 0, ...</td>\n",
       "    </tr>\n",
       "    <tr>\n",
       "      <th>99996</th>\n",
       "      <td>0</td>\n",
       "      <td>[0, 0, 0, 0, 0, 0, 0, 0, 0, 0, 0, 0, 0, 0, 0, ...</td>\n",
       "      <td>[0, 0, 0, 0, 0, 0, 0, 0, 0, 0, 0, 0, 0, 0, 0, ...</td>\n",
       "    </tr>\n",
       "    <tr>\n",
       "      <th>99997</th>\n",
       "      <td>5</td>\n",
       "      <td>[0, 0, 0, 0, 0, 0, 0, 0, 0, 0, 0, 0, 0, 0, 0, ...</td>\n",
       "      <td>[0, 0, 0, 0, 0, 0, 0, 0, 0, 0, 0, 1, 0, 0, 0, ...</td>\n",
       "    </tr>\n",
       "    <tr>\n",
       "      <th>99998</th>\n",
       "      <td>3</td>\n",
       "      <td>[0, 0, 0, 0, 0, 0, 0, 0, 0, 0, 0, 0, 0, 0, 0, ...</td>\n",
       "      <td>[0, 0, 0, 1, 0, 0, 0, 0, 0, 0, 0, 0, 0, 0, 0, ...</td>\n",
       "    </tr>\n",
       "    <tr>\n",
       "      <th>99999</th>\n",
       "      <td>5</td>\n",
       "      <td>[0, 0, 0, 0, 0, 0, 0, 0, 0, 0, 0, 0, 0, 0, 0, ...</td>\n",
       "      <td>[0, 0, 1, 0, 1, 0, 0, 0, 0, 0, 0, 0, 0, 0, 0, ...</td>\n",
       "    </tr>\n",
       "  </tbody>\n",
       "</table>\n",
       "<p>100000 rows × 3 columns</p>\n",
       "</div>"
      ],
      "text/plain": [
       "       #_Combos                                        List_Combos  \\\n",
       "0             1  [0, 0, 0, 0, 0, 0, 0, 0, 0, 0, 0, 0, 0, 0, 0, ...   \n",
       "1             0  [0, 0, 0, 0, 0, 0, 0, 0, 0, 0, 0, 0, 0, 0, 0, ...   \n",
       "2             2  [0, 0, 0, 0, 0, 0, 0, 0, 0, 0, 0, 0, 0, 0, 0, ...   \n",
       "3             0  [0, 0, 0, 0, 0, 0, 0, 0, 0, 0, 0, 0, 0, 0, 0, ...   \n",
       "4             1  [0, 0, 0, 0, 0, 0, 0, 0, 0, 0, 0, 0, 0, 0, 0, ...   \n",
       "...         ...                                                ...   \n",
       "99995         3  [0, 0, 0, 0, 0, 0, 0, 0, 0, 0, 0, 0, 0, 0, 0, ...   \n",
       "99996         0  [0, 0, 0, 0, 0, 0, 0, 0, 0, 0, 0, 0, 0, 0, 0, ...   \n",
       "99997         5  [0, 0, 0, 0, 0, 0, 0, 0, 0, 0, 0, 0, 0, 0, 0, ...   \n",
       "99998         3  [0, 0, 0, 0, 0, 0, 0, 0, 0, 0, 0, 0, 0, 0, 0, ...   \n",
       "99999         5  [0, 0, 0, 0, 0, 0, 0, 0, 0, 0, 0, 0, 0, 0, 0, ...   \n",
       "\n",
       "                                           Deck_Selected  \n",
       "0      [0, 0, 0, 0, 0, 0, 0, 0, 0, 0, 0, 0, 0, 0, 0, ...  \n",
       "1      [0, 0, 0, 0, 0, 0, 0, 0, 0, 1, 0, 0, 0, 0, 0, ...  \n",
       "2      [0, 0, 1, 0, 0, 0, 0, 1, 0, 0, 1, 0, 0, 0, 1, ...  \n",
       "3      [0, 0, 0, 0, 0, 0, 1, 0, 0, 0, 0, 0, 0, 0, 0, ...  \n",
       "4      [0, 0, 0, 0, 0, 0, 0, 0, 0, 0, 0, 0, 0, 0, 0, ...  \n",
       "...                                                  ...  \n",
       "99995  [0, 0, 0, 0, 0, 1, 0, 0, 0, 0, 0, 0, 0, 0, 0, ...  \n",
       "99996  [0, 0, 0, 0, 0, 0, 0, 0, 0, 0, 0, 0, 0, 0, 0, ...  \n",
       "99997  [0, 0, 0, 0, 0, 0, 0, 0, 0, 0, 0, 1, 0, 0, 0, ...  \n",
       "99998  [0, 0, 0, 1, 0, 0, 0, 0, 0, 0, 0, 0, 0, 0, 0, ...  \n",
       "99999  [0, 0, 1, 0, 1, 0, 0, 0, 0, 0, 0, 0, 0, 0, 0, ...  \n",
       "\n",
       "[100000 rows x 3 columns]"
      ]
     },
     "execution_count": 53,
     "metadata": {},
     "output_type": "execute_result"
    }
   ],
   "source": [
    "#THIS IS OUT OF LAZYNESS--- JUST SELECT THE INDEX OF THE BEST COMBOS\n",
    "df=pd.DataFrame(list(zip(list_results,List_Count_Combos,list_Deck)),columns =['#_Combos',\"List_Combos\",\"Deck_Selected\"])"
   ]
  },
  {
   "cell_type": "code",
   "execution_count": 61,
   "metadata": {},
   "outputs": [
    {
     "data": {
      "text/html": [
       "<div>\n",
       "<style scoped>\n",
       "    .dataframe tbody tr th:only-of-type {\n",
       "        vertical-align: middle;\n",
       "    }\n",
       "\n",
       "    .dataframe tbody tr th {\n",
       "        vertical-align: top;\n",
       "    }\n",
       "\n",
       "    .dataframe thead th {\n",
       "        text-align: right;\n",
       "    }\n",
       "</style>\n",
       "<table border=\"1\" class=\"dataframe\">\n",
       "  <thead>\n",
       "    <tr style=\"text-align: right;\">\n",
       "      <th></th>\n",
       "      <th>#_Combos</th>\n",
       "      <th>List_Combos</th>\n",
       "      <th>Deck_Selected</th>\n",
       "    </tr>\n",
       "  </thead>\n",
       "  <tbody>\n",
       "    <tr>\n",
       "      <th>4193</th>\n",
       "      <td>14</td>\n",
       "      <td>[0, 1, 0, 1, 0, 0, 0, 0, 0, 0, 0, 0, 0, 0, 0, ...</td>\n",
       "      <td>[1, 0, 1, 1, 1, 0, 0, 1, 1, 0, 0, 0, 0, 0, 0, ...</td>\n",
       "    </tr>\n",
       "    <tr>\n",
       "      <th>55699</th>\n",
       "      <td>13</td>\n",
       "      <td>[0, 0, 0, 0, 0, 0, 0, 0, 0, 0, 0, 0, 0, 0, 0, ...</td>\n",
       "      <td>[0, 0, 0, 1, 0, 0, 0, 0, 0, 0, 0, 0, 0, 0, 0, ...</td>\n",
       "    </tr>\n",
       "    <tr>\n",
       "      <th>54705</th>\n",
       "      <td>13</td>\n",
       "      <td>[0, 1, 1, 0, 0, 0, 0, 0, 0, 0, 1, 0, 0, 0, 0, ...</td>\n",
       "      <td>[1, 0, 0, 1, 1, 1, 0, 0, 0, 0, 0, 1, 0, 0, 0, ...</td>\n",
       "    </tr>\n",
       "    <tr>\n",
       "      <th>44446</th>\n",
       "      <td>12</td>\n",
       "      <td>[0, 0, 0, 0, 0, 0, 0, 0, 0, 0, 0, 0, 0, 0, 0, ...</td>\n",
       "      <td>[0, 0, 1, 0, 0, 1, 0, 0, 0, 0, 0, 1, 0, 0, 0, ...</td>\n",
       "    </tr>\n",
       "    <tr>\n",
       "      <th>58908</th>\n",
       "      <td>12</td>\n",
       "      <td>[0, 0, 0, 0, 0, 0, 0, 0, 0, 0, 0, 0, 0, 0, 0, ...</td>\n",
       "      <td>[0, 0, 0, 1, 1, 1, 0, 0, 1, 0, 0, 0, 0, 1, 0, ...</td>\n",
       "    </tr>\n",
       "    <tr>\n",
       "      <th>...</th>\n",
       "      <td>...</td>\n",
       "      <td>...</td>\n",
       "      <td>...</td>\n",
       "    </tr>\n",
       "    <tr>\n",
       "      <th>35095</th>\n",
       "      <td>0</td>\n",
       "      <td>[0, 0, 0, 0, 0, 0, 0, 0, 0, 0, 0, 0, 0, 0, 0, ...</td>\n",
       "      <td>[0, 0, 0, 1, 0, 0, 0, 0, 0, 0, 0, 0, 0, 0, 0, ...</td>\n",
       "    </tr>\n",
       "    <tr>\n",
       "      <th>35098</th>\n",
       "      <td>0</td>\n",
       "      <td>[0, 0, 0, 0, 0, 0, 0, 0, 0, 0, 0, 0, 0, 0, 0, ...</td>\n",
       "      <td>[0, 0, 0, 0, 0, 0, 0, 0, 0, 0, 0, 0, 0, 0, 0, ...</td>\n",
       "    </tr>\n",
       "    <tr>\n",
       "      <th>77644</th>\n",
       "      <td>0</td>\n",
       "      <td>[0, 0, 0, 0, 0, 0, 0, 0, 0, 0, 0, 0, 0, 0, 0, ...</td>\n",
       "      <td>[0, 0, 0, 0, 0, 0, 0, 0, 0, 0, 0, 0, 0, 0, 0, ...</td>\n",
       "    </tr>\n",
       "    <tr>\n",
       "      <th>77643</th>\n",
       "      <td>0</td>\n",
       "      <td>[0, 0, 0, 0, 0, 0, 0, 0, 0, 0, 0, 0, 0, 0, 0, ...</td>\n",
       "      <td>[0, 0, 0, 0, 0, 0, 0, 0, 1, 0, 0, 0, 0, 0, 0, ...</td>\n",
       "    </tr>\n",
       "    <tr>\n",
       "      <th>50000</th>\n",
       "      <td>0</td>\n",
       "      <td>[0, 0, 0, 0, 0, 0, 0, 0, 0, 0, 0, 0, 0, 0, 0, ...</td>\n",
       "      <td>[0, 0, 0, 1, 0, 0, 1, 0, 0, 0, 0, 0, 1, 0, 0, ...</td>\n",
       "    </tr>\n",
       "  </tbody>\n",
       "</table>\n",
       "<p>100000 rows × 3 columns</p>\n",
       "</div>"
      ],
      "text/plain": [
       "       #_Combos                                        List_Combos  \\\n",
       "4193         14  [0, 1, 0, 1, 0, 0, 0, 0, 0, 0, 0, 0, 0, 0, 0, ...   \n",
       "55699        13  [0, 0, 0, 0, 0, 0, 0, 0, 0, 0, 0, 0, 0, 0, 0, ...   \n",
       "54705        13  [0, 1, 1, 0, 0, 0, 0, 0, 0, 0, 1, 0, 0, 0, 0, ...   \n",
       "44446        12  [0, 0, 0, 0, 0, 0, 0, 0, 0, 0, 0, 0, 0, 0, 0, ...   \n",
       "58908        12  [0, 0, 0, 0, 0, 0, 0, 0, 0, 0, 0, 0, 0, 0, 0, ...   \n",
       "...         ...                                                ...   \n",
       "35095         0  [0, 0, 0, 0, 0, 0, 0, 0, 0, 0, 0, 0, 0, 0, 0, ...   \n",
       "35098         0  [0, 0, 0, 0, 0, 0, 0, 0, 0, 0, 0, 0, 0, 0, 0, ...   \n",
       "77644         0  [0, 0, 0, 0, 0, 0, 0, 0, 0, 0, 0, 0, 0, 0, 0, ...   \n",
       "77643         0  [0, 0, 0, 0, 0, 0, 0, 0, 0, 0, 0, 0, 0, 0, 0, ...   \n",
       "50000         0  [0, 0, 0, 0, 0, 0, 0, 0, 0, 0, 0, 0, 0, 0, 0, ...   \n",
       "\n",
       "                                           Deck_Selected  \n",
       "4193   [1, 0, 1, 1, 1, 0, 0, 1, 1, 0, 0, 0, 0, 0, 0, ...  \n",
       "55699  [0, 0, 0, 1, 0, 0, 0, 0, 0, 0, 0, 0, 0, 0, 0, ...  \n",
       "54705  [1, 0, 0, 1, 1, 1, 0, 0, 0, 0, 0, 1, 0, 0, 0, ...  \n",
       "44446  [0, 0, 1, 0, 0, 1, 0, 0, 0, 0, 0, 1, 0, 0, 0, ...  \n",
       "58908  [0, 0, 0, 1, 1, 1, 0, 0, 1, 0, 0, 0, 0, 1, 0, ...  \n",
       "...                                                  ...  \n",
       "35095  [0, 0, 0, 1, 0, 0, 0, 0, 0, 0, 0, 0, 0, 0, 0, ...  \n",
       "35098  [0, 0, 0, 0, 0, 0, 0, 0, 0, 0, 0, 0, 0, 0, 0, ...  \n",
       "77644  [0, 0, 0, 0, 0, 0, 0, 0, 0, 0, 0, 0, 0, 0, 0, ...  \n",
       "77643  [0, 0, 0, 0, 0, 0, 0, 0, 1, 0, 0, 0, 0, 0, 0, ...  \n",
       "50000  [0, 0, 0, 1, 0, 0, 1, 0, 0, 0, 0, 0, 1, 0, 0, ...  \n",
       "\n",
       "[100000 rows x 3 columns]"
      ]
     },
     "execution_count": 61,
     "metadata": {},
     "output_type": "execute_result"
    }
   ],
   "source": [
    "#Just use the Index to get the deck\n",
    "sorted_list=df.sort_values(by='#_Combos', ascending=False)\n",
    "sorted_list\n",
    "#This is the Combo\n",
    "#sorted_list['List_Combos'][55699])"
   ]
  },
  {
   "cell_type": "code",
   "execution_count": 64,
   "metadata": {},
   "outputs": [
    {
     "data": {
      "text/plain": [
       "13"
      ]
     },
     "execution_count": 64,
     "metadata": {},
     "output_type": "execute_result"
    }
   ],
   "source": [
    "sum(sorted_list['List_Combos'][55699])"
   ]
  },
  {
   "cell_type": "code",
   "execution_count": 11,
   "metadata": {},
   "outputs": [
    {
     "name": "stdout",
     "output_type": "stream",
     "text": [
      "Maximum Number of Combos in this Deck is 14 and the index is 4193\n"
     ]
    }
   ],
   "source": [
    "#iNDEX VALUE OF THE BEST DECK\n",
    "max_value = max(list_results)\n",
    "max_index = list_results.index(max_value)\n",
    "print('Maximum Number of Combos in this Deck is ' + str(max_value) + \" and the index is \" + str(max_index))"
   ]
  },
  {
   "cell_type": "code",
   "execution_count": 12,
   "metadata": {},
   "outputs": [
    {
     "name": "stdout",
     "output_type": "stream",
     "text": [
      "Adarkar Valkyrie\n",
      "Phyrexian Altar\n",
      "Thornbite Staff\n",
      "Altar of Dementia\n",
      "Karmic Guide\n",
      "Animation Module\n",
      "Nyxbloom Ancient\n",
      "Reveillark\n",
      "Elvish Aberration\n",
      "Umbral Mantle\n",
      "Sunscorched Desert\n",
      "Rally of Wings\n",
      "Baird, Steward of Argive\n",
      "Lesser Masticore\n",
      "Opalescence\n",
      "Life Chisel\n",
      "Song of Freyalise\n",
      "Quirion Ranger\n",
      "Rampaging Baloths\n",
      "Angelic Renewal\n",
      "Triskelion\n",
      "Planar Gate\n",
      "Spawnsire of Ulamog\n",
      "Cryptic Gateway\n",
      "Sun Titan\n",
      "Uba Mask\n",
      "Verdant Succession\n",
      "Arashin Sovereign\n",
      "God-Eternal Rhonas\n",
      "Wakeroot Elemental\n",
      "Axis of Mortality\n",
      "Abzan Battle Priest\n",
      "Renata, Called to the Hunt\n",
      "Painter's Servant\n",
      "Archon of Falling Stars\n",
      "Eldrazi Monument\n",
      "Oasis Ritualist\n",
      "Lightning Greaves\n",
      "Dictate of Karametra\n",
      "Nettle Sentinel\n",
      "Oketra's Monument\n",
      "Vizier of the Menagerie\n",
      "Nacre Talisman\n",
      "Village Bell-Ringer\n",
      "Summon the School\n",
      "God-Eternal Oketra\n",
      "Scute Swarm\n",
      "Ancient Greenwarden\n",
      "Hornet Queen\n",
      "Smothering Tithe\n",
      "Scion Summoner\n",
      "Sakura-Tribe Scout\n",
      "Skyshroud Ranger\n",
      "Kamahl, Heart of Krosa\n",
      "Light of Promise\n",
      "Puresteel Paladin\n",
      "Mirari's Wake\n",
      "Forsaken Monument\n",
      "Sparring Mummy\n",
      "\n",
      "Bloodspore Thrinax\n"
     ]
    }
   ],
   "source": [
    "#GET BEST DECK PRINTED\n",
    "for index,card in enumerate(list_Deck[max_index]):\n",
    "    if card==1:\n",
    "        print(list_of_Cards[index])\n",
    "    else:\n",
    "        pass"
   ]
  },
  {
   "cell_type": "code",
   "execution_count": 65,
   "metadata": {},
   "outputs": [
    {
     "name": "stdout",
     "output_type": "stream",
     "text": [
      "[\"Karametra's Acolyte\", 'Staff of Domination']\n",
      "['Karn, the Great Creator', 'Mycosynth Lattice', 'Baird, Steward of Argive']\n",
      "['Kormus Bell', 'Urborg, Tomb of Yawgmoth', 'Elesh Norn, Grand Cenobite']\n",
      "['Mycosynth Lattice', 'Stony Silence', 'Baird, Steward of Argive']\n",
      "['Pili-Pala', 'Mana Reflection', 'Citanul Hierophants']\n",
      "['Pili-Pala', 'Mana Reflection', 'Cryptolith Rite']\n",
      "['Pili-Pala', 'Nyxbloom Ancient', 'Citanul Hierophants']\n",
      "['Pili-Pala', 'Nyxbloom Ancient', 'Cryptolith Rite']\n",
      "['Spawnsire of Ulamog', 'Parallel Lives']\n",
      "['Stony Silence', 'Mycosynth Lattice']\n",
      "['Eternal Scourge', 'Food Chain']\n",
      "['Emiel the Blessed', \"Karametra's Acolyte\", 'Lightning Greaves']\n",
      "['Emiel the Blessed', \"Karametra's Acolyte\", 'Concordant Crossroads']\n"
     ]
    }
   ],
   "source": [
    "#PRINT LIST OF COMBOS IN THE BEST DECK\n",
    "List_Combo_Cards=[]\n",
    "for index,combo in enumerate(List_Count_Combos[max_index]):\n",
    "    if combo==1:\n",
    "        List_Combo_Cards.append(Combo_list[index])\n",
    "        print(Combo_list[index])\n",
    "    else:\n",
    "        pass"
   ]
  },
  {
   "cell_type": "code",
   "execution_count": 66,
   "metadata": {},
   "outputs": [
    {
     "data": {
      "text/plain": [
       "[\"Karametra's Acolyte\",\n",
       " 'Staff of Domination',\n",
       " 'Karn, the Great Creator',\n",
       " 'Mycosynth Lattice',\n",
       " 'Baird, Steward of Argive',\n",
       " 'Kormus Bell',\n",
       " 'Urborg, Tomb of Yawgmoth',\n",
       " 'Elesh Norn, Grand Cenobite',\n",
       " 'Stony Silence',\n",
       " 'Pili-Pala',\n",
       " 'Mana Reflection',\n",
       " 'Citanul Hierophants',\n",
       " 'Cryptolith Rite',\n",
       " 'Nyxbloom Ancient',\n",
       " 'Spawnsire of Ulamog',\n",
       " 'Parallel Lives',\n",
       " 'Eternal Scourge',\n",
       " 'Food Chain',\n",
       " 'Emiel the Blessed',\n",
       " 'Lightning Greaves',\n",
       " 'Concordant Crossroads']"
      ]
     },
     "execution_count": 66,
     "metadata": {},
     "output_type": "execute_result"
    }
   ],
   "source": [
    "#important Cards\n",
    "Cards_to_Get= sum(List_Combo_Cards, [])\n",
    "#REMOVE ALL ThE DUPLICATES FROM MY DECK\n",
    "Cards_to_Get=list(dict.fromkeys(Cards_to_Get))\n",
    "Cards_to_Get "
   ]
  },
  {
   "cell_type": "code",
   "execution_count": 71,
   "metadata": {},
   "outputs": [
    {
     "name": "stdout",
     "output_type": "stream",
     "text": [
      "['Mycosynth Lattice', 'x', 'w', 'x', 'w', 'f', 'f', 'Staff of Domination', 'x', 'Spawnsire of Ulamog', 'f', 'Elesh Norn, Grand Cenobite', 'Parallel Lives', 'x', 'Reveillark', 'Kormus Bell', 'Thornbite Staff', 'x', 'Cryptolith Rite', 'x']\n"
     ]
    }
   ],
   "source": [
    "#TEsting what is the chance to draw a combo if I draw a certain number of cards\n",
    "\n",
    "Random_Deck=random.sample(['f']*(20) + ['w']*(20) + ['Adarkar Valkyrie',\n",
    " 'Thornbite Staff',\n",
    " 'Altar of Dementia',\n",
    " 'Phyrexian Altar',\n",
    " 'Karmic Guide',\n",
    " 'Reveillark',\n",
    " 'Triskelion',\n",
    " 'Sun Titan',\n",
    " 'Angelic Renewal',\n",
    " 'Verdant Succession',\n",
    " 'Arashin Sovereign',\n",
    " 'God-Eternal Rhonas',\n",
    " 'Renata, Called to the Hunt',\n",
    " 'Lesser Masticore'] + \n",
    "                          \n",
    "[\"Karametra's Acolyte\",\n",
    " 'Staff of Domination',\n",
    " 'Karn, the Great Creator',\n",
    " 'Mycosynth Lattice',\n",
    " 'Baird, Steward of Argive',\n",
    " 'Kormus Bell',\n",
    " 'Urborg, Tomb of Yawgmoth',\n",
    " 'Elesh Norn, Grand Cenobite',\n",
    " 'Stony Silence',\n",
    " 'Pili-Pala',\n",
    " 'Mana Reflection',\n",
    " 'Citanul Hierophants',\n",
    " 'Cryptolith Rite',\n",
    " 'Nyxbloom Ancient',\n",
    " 'Spawnsire of Ulamog',\n",
    " 'Parallel Lives',\n",
    " 'Eternal Scourge',\n",
    " 'Food Chain',\n",
    " 'Emiel the Blessed',\n",
    " 'Lightning Greaves',\n",
    " 'Concordant Crossroads'] + \n",
    "    ['x']*25 , 100)\n",
    "\n",
    "print(random.sample(Random_Deck,20))\n"
   ]
  },
  {
   "cell_type": "code",
   "execution_count": null,
   "metadata": {},
   "outputs": [],
   "source": [
    "# Maximize the probability of getting a combo in my 15 draws!! That is the essence  , next step"
   ]
  }
 ],
 "metadata": {
  "kernelspec": {
   "display_name": "Python 3 (ipykernel)",
   "language": "python",
   "name": "python3"
  },
  "language_info": {
   "codemirror_mode": {
    "name": "ipython",
    "version": 3
   },
   "file_extension": ".py",
   "mimetype": "text/x-python",
   "name": "python",
   "nbconvert_exporter": "python",
   "pygments_lexer": "ipython3",
   "version": "3.8.12"
  }
 },
 "nbformat": 4,
 "nbformat_minor": 4
}
